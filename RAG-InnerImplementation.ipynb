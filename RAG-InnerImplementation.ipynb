{
 "cells": [
  {
   "cell_type": "code",
   "execution_count": 59,
   "id": "81adbe02-ad67-4de0-858d-305613ba6d0c",
   "metadata": {},
   "outputs": [
    {
     "data": {
      "text/plain": [
       "['Take a leisurely walk in the park and enjoy the fresh air.',\n",
       " 'Visit a local museum and discover something new.',\n",
       " 'Attend a live music concert and feel the rhythm.',\n",
       " 'Go for a hike and admire the natural scenery.',\n",
       " 'Have a picnic with friends and share some laughs.',\n",
       " 'Explore a new cuisine by dining at an ethnic restaurant.',\n",
       " 'Take a yoga class and stretch your body and mind.',\n",
       " 'Join a local sports league and enjoy some friendly competition.',\n",
       " \"Attend a workshop or lecture on a topic you're interested in.\",\n",
       " 'Visit an amusement park and ride the roller coasters.']"
      ]
     },
     "execution_count": 59,
     "metadata": {},
     "output_type": "execute_result"
    }
   ],
   "source": [
    "corpus_of_documents= [\n",
    "    \"Take a leisurely walk in the park and enjoy the fresh air.\",\n",
    "    \"Visit a local museum and discover something new.\",\n",
    "    \"Attend a live music concert and feel the rhythm.\",\n",
    "    \"Go for a hike and admire the natural scenery.\",\n",
    "    \"Have a picnic with friends and share some laughs.\",\n",
    "    \"Explore a new cuisine by dining at an ethnic restaurant.\",\n",
    "    \"Take a yoga class and stretch your body and mind.\",\n",
    "    \"Join a local sports league and enjoy some friendly competition.\",\n",
    "    \"Attend a workshop or lecture on a topic you're interested in.\",\n",
    "    \"Visit an amusement park and ride the roller coasters.\"\n",
    "]\n",
    "corpus_of_documents"
   ]
  },
  {
   "cell_type": "code",
   "execution_count": 49,
   "id": "ea686411-e642-4e41-b2f7-0b172c6eb356",
   "metadata": {},
   "outputs": [],
   "source": [
    "from collections import Counter\n",
    "import math"
   ]
  },
  {
   "cell_type": "markdown",
   "id": "491f2c77-b1c6-4e00-8354-b3260242ae28",
   "metadata": {},
   "source": [
    "cos(@) = A.B // (|A|.|B|)"
   ]
  },
  {
   "cell_type": "code",
   "execution_count": 48,
   "id": "e85c77e7-45c0-4644-937e-c3de7ace88a7",
   "metadata": {},
   "outputs": [],
   "source": [
    "user_query = \"Is yoga Good for Health\"\n",
    "document = \"yes yoga is good for health\""
   ]
  },
  {
   "cell_type": "code",
   "execution_count": 61,
   "id": "de883c7a-3707-489b-91f2-b26189f50ab9",
   "metadata": {},
   "outputs": [],
   "source": [
    "def cosine_similarity(user_query,document):\n",
    "    \n",
    "    query_tokens = user_query.lower().split()\n",
    "    \n",
    "    document_tokens = document.lower().split()\n",
    "    \n",
    "    query_counter = Counter(query_tokens)\n",
    "    \n",
    "    document_counter = Counter(document_tokens)\n",
    "    \n",
    "    # Like dot product (A.B)\n",
    "    \n",
    "    mylist=[]\n",
    "    for tokens in query_counter.keys() & document_counter.keys():\n",
    "        mylist.append(query_counter[tokens]*document_counter[tokens])\n",
    "    dotprod = sum(mylist)\n",
    "    \n",
    "    # mod(A).mod(B)\n",
    "    \n",
    "    query_magnitude = math.sqrt(sum(query_counter[token]**2 for token in query_counter))\n",
    "\n",
    "    document_magnitude = math.sqrt(sum(document_counter[token]**2 for token in document_counter))\n",
    "    \n",
    "    similarity = dotprod /(document_magnitude*query_magnitude)\n",
    "    \n",
    "    return similarity  "
   ]
  },
  {
   "cell_type": "code",
   "execution_count": 62,
   "id": "93533250-b35d-43fc-999b-d9743dc253f4",
   "metadata": {},
   "outputs": [
    {
     "data": {
      "text/plain": [
       "0.9128709291752769"
      ]
     },
     "execution_count": 62,
     "metadata": {},
     "output_type": "execute_result"
    }
   ],
   "source": [
    "user_query = \"Is yoga Good for Health\"\n",
    "document = \"Yes Yoga is good for health\"\n",
    "ans = cosine_similarity(user_query,document)\n",
    "ans"
   ]
  },
  {
   "cell_type": "code",
   "execution_count": 69,
   "id": "4449aeea-3e36-4cf6-94d4-86a46413b434",
   "metadata": {},
   "outputs": [],
   "source": [
    "def return_response(query,corpus):\n",
    "    similarities = []\n",
    "    for doc in corpus:\n",
    "        similarity = cosine_similarity(query,doc)\n",
    "        similarities.append(similarity)\n",
    "    return corpus[similarities.index(max(similarities))]"
   ]
  },
  {
   "cell_type": "code",
   "execution_count": 89,
   "id": "a840578c-f07e-4136-9fc6-96dfcf5c6306",
   "metadata": {},
   "outputs": [
    {
     "data": {
      "text/plain": [
       "'Have a picnic with friends and share some laughs.'"
      ]
     },
     "execution_count": 89,
     "metadata": {},
     "output_type": "execute_result"
    }
   ],
   "source": [
    "ans = return_response(\"Lets have fun\",corpus_of_documents)\n",
    "ans"
   ]
  },
  {
   "cell_type": "code",
   "execution_count": 73,
   "id": "0eab0228-50a9-4d7c-8e01-e2ed6b533210",
   "metadata": {},
   "outputs": [],
   "source": [
    "# how you can configure llm in your local system\n",
    "# LLAMA2\n",
    "#hugging face(we are not going to use this one)"
   ]
  },
  {
   "cell_type": "code",
   "execution_count": 74,
   "id": "983c7765-2a18-4094-ab61-846c11818c5a",
   "metadata": {},
   "outputs": [],
   "source": [
    "# Agument this response by llama2 model"
   ]
  },
  {
   "cell_type": "code",
   "execution_count": 81,
   "id": "eea2bd53-9481-4935-ab9c-c3beac22972a",
   "metadata": {},
   "outputs": [],
   "source": [
    "import requests\n",
    "import json"
   ]
  },
  {
   "cell_type": "code",
   "execution_count": 93,
   "id": "f1896224-9bdc-413e-85b4-9e64b349280a",
   "metadata": {},
   "outputs": [
    {
     "name": "stdout",
     "output_type": "stream",
     "text": [
      " Sure, here's my response:\n",
      "\n",
      "Great! A picnic sounds like a wonderful way to have fun with friends. 😊\n"
     ]
    }
   ],
   "source": [
    "full_response = []\n",
    "user_input = \"Lets have fun\"\n",
    "relevant_document = return_response(user_input,corpus_of_documents)\n",
    "prompt = \"\"\"\n",
    "You are a bot that makes recommendations for activities. You answer in very short sentences and do not include extra information.\n",
    "This is the recommended activity: {relevant_document}\n",
    "The user input is: {user_input}\n",
    "Compile a recommendation to the user based on the recommended activity and the user input.\n",
    "\"\"\"\n",
    "\n",
    "url = 'http://localhost:11434/api/generate'\n",
    "\n",
    "data = {\n",
    "    \"model\":\"llama2\",\n",
    "    \"prompt\":prompt.format(user_input=user_input,relevant_document = relevant_document)\n",
    "}\n",
    "\n",
    "headers = {\n",
    "    \"Content-Type\": \"application/json\"\n",
    "}\n",
    "\n",
    "response = requests.post(url,data=json.dumps(data),headers=headers,stream=True)\n",
    "\n",
    "\n",
    "\n",
    "\n",
    "try:\n",
    "    for line in response.iter_lines():\n",
    "        \n",
    "        # filter out keep-alive new lines\n",
    "        \n",
    "        if line:\n",
    "            \n",
    "            decoded_line = json.loads(line.decode('utf-8'))\n",
    "            \n",
    "            # print(decoded_line['response'])  # uncomment to results, token by token\n",
    "            \n",
    "            full_response.append(decoded_line['response'])\n",
    "            \n",
    "finally:\n",
    "    response.close() \n",
    "    \n",
    "print(\"\".join(full_response))   "
   ]
  },
  {
   "cell_type": "code",
   "execution_count": null,
   "id": "627427a9-0b58-43f3-814c-fa214530f991",
   "metadata": {},
   "outputs": [],
   "source": []
  },
  {
   "cell_type": "code",
   "execution_count": null,
   "id": "75d3dcbc-2570-4341-b343-45f0f94b81d7",
   "metadata": {},
   "outputs": [],
   "source": []
  }
 ],
 "metadata": {
  "kernelspec": {
   "display_name": "Python [conda env:base] *",
   "language": "python",
   "name": "conda-base-py"
  },
  "language_info": {
   "codemirror_mode": {
    "name": "ipython",
    "version": 3
   },
   "file_extension": ".py",
   "mimetype": "text/x-python",
   "name": "python",
   "nbconvert_exporter": "python",
   "pygments_lexer": "ipython3",
   "version": "3.13.5"
  }
 },
 "nbformat": 4,
 "nbformat_minor": 5
}
